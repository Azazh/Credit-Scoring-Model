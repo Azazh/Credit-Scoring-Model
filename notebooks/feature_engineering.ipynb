{
 "cells": [
  {
   "cell_type": "code",
   "execution_count": null,
   "metadata": {},
   "outputs": [],
   "source": [
    "import pandas as pd\n",
    "import numpy as np\n",
    "from sklearn.preprocessing import StandardScaler, MinMaxScaler, LabelEncoder, OneHotEncoder\n",
    "from xverse.transformer import WOE\n",
    "import matplotlib.pyplot as plt\n",
    "import seaborn as sns"
   ]
  },
  {
   "cell_type": "code",
   "execution_count": null,
   "metadata": {},
   "outputs": [],
   "source": [
    "# Load the dataset\n",
    "df = pd.read_csv('../data/credit_scoring_data.csv')\n"
   ]
  },
  {
   "cell_type": "code",
   "execution_count": null,
   "metadata": {},
   "outputs": [],
   "source": [
    "# Create Aggregate Features\n",
    "df['Total_Transaction_Amount'] = df.groupby('CustomerID')['TransactionAmount'].transform('sum')\n",
    "df['Avg_Transaction_Amount'] = df.groupby('CustomerID')['TransactionAmount'].transform('mean')\n",
    "df['Transaction_Count'] = df.groupby('CustomerID')['TransactionAmount'].transform('count')\n",
    "df['Std_Transaction_Amount'] = df.groupby('CustomerID')['TransactionAmount'].transform('std').fillna(0)\n"
   ]
  },
  {
   "cell_type": "markdown",
   "metadata": {},
   "source": [
    "# Extract Features\n"
   ]
  },
  {
   "cell_type": "code",
   "execution_count": null,
   "metadata": {},
   "outputs": [],
   "source": [
    "# Extract Features\n",
    "df['Transaction_Hour'] = pd.to_datetime(df['TransactionDate']).dt.hour\n",
    "df['Transaction_Day'] = pd.to_datetime(df['TransactionDate']).dt.day\n",
    "df['Transaction_Month'] = pd.to_datetime(df['TransactionDate']).dt.month\n",
    "df['Transaction_Year'] = pd.to_datetime(df['TransactionDate']).dt.year"
   ]
  },
  {
   "cell_type": "markdown",
   "metadata": {},
   "source": [
    "# Encode Categorical Variables\n"
   ]
  },
  {
   "cell_type": "code",
   "execution_count": null,
   "metadata": {},
   "outputs": [],
   "source": [
    "# Encode Categorical Variables\n",
    "label_enc = LabelEncoder()\n",
    "df['Category_Label'] = label_enc.fit_transform(df['TransactionCategory'])\n",
    "\n",
    "ohe = OneHotEncoder(sparse_output=False)\n",
    "categorical_encoded = ohe.fit_transform(df[['TransactionCategory']])\n",
    "categorical_encoded_df = pd.DataFrame(categorical_encoded, columns=ohe.get_feature_names_out())\n",
    "df = pd.concat([df, categorical_encoded_df], axis=1)"
   ]
  },
  {
   "cell_type": "code",
   "execution_count": null,
   "metadata": {},
   "outputs": [],
   "source": [
    "# Handle Missing Values\n",
    "df.fillna(df.mean(), inplace=True)\n"
   ]
  },
  {
   "cell_type": "code",
   "execution_count": null,
   "metadata": {},
   "outputs": [],
   "source": [
    "# Normalize/Standardize Numerical Features\n",
    "scaler = MinMaxScaler()\n",
    "df[['Total_Transaction_Amount', 'Avg_Transaction_Amount', 'Std_Transaction_Amount']] = scaler.fit_transform(\n",
    "    df[['Total_Transaction_Amount', 'Avg_Transaction_Amount', 'Std_Transaction_Amount']])"
   ]
  }
 ],
 "metadata": {
  "kernelspec": {
   "display_name": "envcredit",
   "language": "python",
   "name": "python3"
  },
  "language_info": {
   "name": "python",
   "version": "3.10.12"
  }
 },
 "nbformat": 4,
 "nbformat_minor": 2
}
