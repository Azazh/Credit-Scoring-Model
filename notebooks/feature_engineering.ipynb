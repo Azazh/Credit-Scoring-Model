{
 "cells": [
  {
   "cell_type": "code",
   "execution_count": null,
   "metadata": {},
   "outputs": [],
   "source": [
    "import pandas as pd\n",
    "import numpy as np\n",
    "from sklearn.preprocessing import StandardScaler, MinMaxScaler, LabelEncoder, OneHotEncoder\n",
    "from xverse.transformer import WOE\n",
    "import matplotlib.pyplot as plt\n",
    "import seaborn as sns"
   ]
  },
  {
   "cell_type": "code",
   "execution_count": null,
   "metadata": {},
   "outputs": [],
   "source": [
    "# Load the dataset\n",
    "df = pd.read_csv('credit_scoring_data.csv')\n"
   ]
  },
  {
   "cell_type": "code",
   "execution_count": null,
   "metadata": {},
   "outputs": [],
   "source": [
    "# Create Aggregate Features\n",
    "df['Total_Transaction_Amount'] = df.groupby('CustomerID')['TransactionAmount'].transform('sum')\n",
    "df['Avg_Transaction_Amount'] = df.groupby('CustomerID')['TransactionAmount'].transform('mean')\n",
    "df['Transaction_Count'] = df.groupby('CustomerID')['TransactionAmount'].transform('count')\n",
    "df['Std_Transaction_Amount'] = df.groupby('CustomerID')['TransactionAmount'].transform('std').fillna(0)\n"
   ]
  }
 ],
 "metadata": {
  "kernelspec": {
   "display_name": "envcredit",
   "language": "python",
   "name": "python3"
  },
  "language_info": {
   "name": "python",
   "version": "3.10.12"
  }
 },
 "nbformat": 4,
 "nbformat_minor": 2
}
