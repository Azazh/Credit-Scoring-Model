{
 "cells": [
  {
   "cell_type": "markdown",
   "metadata": {},
   "source": [
    "# Import Libraries"
   ]
  },
  {
   "cell_type": "code",
   "execution_count": null,
   "metadata": {},
   "outputs": [],
   "source": [
    "import pandas as pd\n",
    "import matplotlib.pyplot as plt\n",
    "import seaborn as sns\n",
    "import numpy as np"
   ]
  },
  {
   "cell_type": "markdown",
   "metadata": {},
   "source": [
    "# Load the dataset\n"
   ]
  },
  {
   "cell_type": "code",
   "execution_count": null,
   "metadata": {},
   "outputs": [],
   "source": [
    "# Load the dataset\n",
    "df = pd.read_csv('../data/credit_scoring_data.csv')\n"
   ]
  },
  {
   "cell_type": "markdown",
   "metadata": {},
   "source": [
    "# Overview of the Data\n"
   ]
  },
  {
   "cell_type": "code",
   "execution_count": null,
   "metadata": {},
   "outputs": [],
   "source": [
    "# Overview of the Data\n",
    "print(\"\\n--- Overview of the Dataset ---\")\n",
    "print(f\"Number of Rows: {df.shape[0]}\")\n",
    "print(f\"Number of Columns: {df.shape[1]}\")\n",
    "print(\"\\nColumn Names and Data Types:\\n\", df.dtypes)\n",
    "print(\"\\nFirst 5 Rows of the Dataset:\\n\", df.head())"
   ]
  },
  {
   "cell_type": "markdown",
   "metadata": {},
   "source": [
    "# Check for duplicate values\n"
   ]
  },
  {
   "cell_type": "code",
   "execution_count": null,
   "metadata": {},
   "outputs": [],
   "source": [
    "# Check for duplicate values\n",
    "duplicates = df.duplicated().sum()\n",
    "print(f\"\\nNumber of Duplicate Rows: {duplicates}\")"
   ]
  },
  {
   "cell_type": "markdown",
   "metadata": {},
   "source": [
    "# Summary Statistics\n"
   ]
  },
  {
   "cell_type": "code",
   "execution_count": null,
   "metadata": {},
   "outputs": [],
   "source": [
    "# Summary Statistics\n",
    "print(\"\\n--- Summary Statistics ---\")\n",
    "print(df.describe())"
   ]
  },
  {
   "cell_type": "markdown",
   "metadata": {},
   "source": [
    "# Distribution of Numerical Features\n"
   ]
  },
  {
   "cell_type": "code",
   "execution_count": null,
   "metadata": {},
   "outputs": [],
   "source": [
    "# Distribution of Numerical Features\n",
    "numerical_features = df.select_dtypes(include=['number']).columns\n",
    "\n",
    "# Display summary statistics for numerical features\n",
    "print(\"Numerical Features Summary:\")\n",
    "print(df[numerical_features].describe())\n",
    "\n",
    "plt.figure(figsize=(12, 6))\n",
    "df[numerical_features].hist(bins=30, figsize=(12, 10), layout=(3, 3))\n",
    "plt.suptitle(\"Distribution of Numerical Features\")\n",
    "plt.show()\n",
    "\n",
    "# Print histogram counts for numerical features\n",
    "print(\"\\nHistogram Counts for Numerical Features:\")\n",
    "for feature in numerical_features:\n",
    "    counts, bin_edges = np.histogram(df[feature], bins=30)\n",
    "    print(f\"\\n{feature} Histogram Counts:\")\n",
    "    for count, edge in zip(counts, bin_edges[:-1]):\n",
    "        print(f\"Range {edge:.2f} - {bin_edges[bin_edges.tolist().index(edge)+1]:.2f}: {count}\")\n"
   ]
  },
  {
   "cell_type": "markdown",
   "metadata": {},
   "source": [
    "# Distribution of Categorical Features\n"
   ]
  },
  {
   "cell_type": "code",
   "execution_count": null,
   "metadata": {},
   "outputs": [],
   "source": [
    "\n",
    "# Distribution of Categorical Features\n",
    "categorical_features = df.select_dtypes(include=['object']).columns\n",
    "\n",
    "# Display counts for categorical features\n",
    "print(\"\\nCategorical Features Counts:\")\n",
    "for feature in categorical_features:\n",
    "    counts = df[feature].value_counts()\n",
    "    print(f\"\\n{feature} Counts:\")\n",
    "    print(counts)\n",
    "\n",
    "    plt.figure(figsize=(8, 4))\n",
    "    sns.countplot(y=df[feature], order=df[feature].value_counts().index)\n",
    "    plt.title(f\"Distribution of {feature}\")\n",
    "    plt.show()"
   ]
  }
 ],
 "metadata": {
  "kernelspec": {
   "display_name": "envcredit",
   "language": "python",
   "name": "python3"
  },
  "language_info": {
   "codemirror_mode": {
    "name": "ipython",
    "version": 3
   },
   "file_extension": ".py",
   "mimetype": "text/x-python",
   "name": "python",
   "nbconvert_exporter": "python",
   "pygments_lexer": "ipython3",
   "version": "3.10.12"
  }
 },
 "nbformat": 4,
 "nbformat_minor": 2
}
