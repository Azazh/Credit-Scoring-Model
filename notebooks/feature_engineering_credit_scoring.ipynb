{
 "cells": [
  {
   "cell_type": "code",
   "execution_count": 9,
   "metadata": {},
   "outputs": [],
   "source": [
    "import pandas as pd\n",
    "import numpy as np\n",
    "from sklearn.preprocessing import StandardScaler, MinMaxScaler, LabelEncoder, OneHotEncoder\n",
    "from xverse.transformer import WOE\n",
    "import matplotlib.pyplot as plt\n",
    "import seaborn as sns"
   ]
  },
  {
   "cell_type": "code",
   "execution_count": 10,
   "metadata": {},
   "outputs": [
    {
     "name": "stdout",
     "output_type": "stream",
     "text": [
      "         TransactionId         BatchId       AccountId       SubscriptionId  \\\n",
      "0  TransactionId_76871   BatchId_36123  AccountId_3957   SubscriptionId_887   \n",
      "1  TransactionId_73770   BatchId_15642  AccountId_4841  SubscriptionId_3829   \n",
      "2  TransactionId_26203   BatchId_53941  AccountId_4229   SubscriptionId_222   \n",
      "3    TransactionId_380  BatchId_102363   AccountId_648  SubscriptionId_2185   \n",
      "4  TransactionId_28195   BatchId_38780  AccountId_4841  SubscriptionId_3829   \n",
      "\n",
      "        CustomerId CurrencyCode  CountryCode    ProviderId     ProductId  \\\n",
      "0  CustomerId_4406          UGX          256  ProviderId_6  ProductId_10   \n",
      "1  CustomerId_4406          UGX          256  ProviderId_4   ProductId_6   \n",
      "2  CustomerId_4683          UGX          256  ProviderId_6   ProductId_1   \n",
      "3   CustomerId_988          UGX          256  ProviderId_1  ProductId_21   \n",
      "4   CustomerId_988          UGX          256  ProviderId_4   ProductId_6   \n",
      "\n",
      "      ProductCategory    ChannelId   Amount  Value  TransactionStartTime  \\\n",
      "0             airtime  ChannelId_3   1000.0   1000  2018-11-15T02:18:49Z   \n",
      "1  financial_services  ChannelId_2    -20.0     20  2018-11-15T02:19:08Z   \n",
      "2             airtime  ChannelId_3    500.0    500  2018-11-15T02:44:21Z   \n",
      "3        utility_bill  ChannelId_3  20000.0  21800  2018-11-15T03:32:55Z   \n",
      "4  financial_services  ChannelId_2   -644.0    644  2018-11-15T03:34:21Z   \n",
      "\n",
      "   PricingStrategy  FraudResult  \n",
      "0                2            0  \n",
      "1                2            0  \n",
      "2                2            0  \n",
      "3                2            0  \n",
      "4                2            0  \n"
     ]
    }
   ],
   "source": [
    "\n",
    "# Load dataset\n",
    "file_path = \"../data/credit_scoring_data.csv\"\n",
    "df = pd.read_csv(file_path)\n",
    "\n",
    "# Display the first few rows to understand the structure\n",
    "print(df.head())\n"
   ]
  },
  {
   "cell_type": "code",
   "execution_count": 11,
   "metadata": {},
   "outputs": [
    {
     "name": "stdout",
     "output_type": "stream",
     "text": [
      "        CustomerId  total_transaction_amount  avg_transaction_amount  \\\n",
      "0     CustomerId_1                  -10000.0           -10000.000000   \n",
      "1    CustomerId_10                  -10000.0           -10000.000000   \n",
      "2  CustomerId_1001                   20000.0             4000.000000   \n",
      "3  CustomerId_1002                    4225.0              384.090909   \n",
      "4  CustomerId_1003                   20000.0             3333.333333   \n",
      "\n",
      "   transaction_count  std_transaction_amount  \n",
      "0                  1                     NaN  \n",
      "1                  1                     NaN  \n",
      "2                  5             6558.963333  \n",
      "3                 11              560.498966  \n",
      "4                  6             6030.478146  \n"
     ]
    }
   ],
   "source": [
    "# Aggregate features for each customer\n",
    "agg_features = df.groupby(\"CustomerId\").agg(\n",
    "    total_transaction_amount=(\"Amount\", \"sum\"),\n",
    "    avg_transaction_amount=(\"Amount\", \"mean\"),\n",
    "    transaction_count=(\"Amount\", \"count\"),\n",
    "    std_transaction_amount=(\"Amount\", \"std\")\n",
    ").reset_index()\n",
    "\n",
    "# Merge back with the original DataFrame if necessary\n",
    "df = df.merge(agg_features, on=\"CustomerId\", how=\"left\")\n",
    "\n",
    "print(agg_features.head())\n"
   ]
  },
  {
   "cell_type": "markdown",
   "metadata": {},
   "source": [
    "# Extract Features\n"
   ]
  },
  {
   "cell_type": "code",
   "execution_count": 12,
   "metadata": {},
   "outputs": [
    {
     "name": "stdout",
     "output_type": "stream",
     "text": [
      "       TransactionStartTime  transaction_hour  transaction_day  \\\n",
      "0 2018-11-15 02:18:49+00:00                 2               15   \n",
      "1 2018-11-15 02:19:08+00:00                 2               15   \n",
      "2 2018-11-15 02:44:21+00:00                 2               15   \n",
      "3 2018-11-15 03:32:55+00:00                 3               15   \n",
      "4 2018-11-15 03:34:21+00:00                 3               15   \n",
      "\n",
      "   transaction_month  transaction_year  \n",
      "0                 11              2018  \n",
      "1                 11              2018  \n",
      "2                 11              2018  \n",
      "3                 11              2018  \n",
      "4                 11              2018  \n"
     ]
    }
   ],
   "source": [
    "# Ensure TransactionStartTime is in datetime format\n",
    "df[\"TransactionStartTime\"] = pd.to_datetime(df[\"TransactionStartTime\"])\n",
    "\n",
    "# Extract features\n",
    "df[\"transaction_hour\"] = df[\"TransactionStartTime\"].dt.hour\n",
    "df[\"transaction_day\"] = df[\"TransactionStartTime\"].dt.day\n",
    "df[\"transaction_month\"] = df[\"TransactionStartTime\"].dt.month\n",
    "df[\"transaction_year\"] = df[\"TransactionStartTime\"].dt.year\n",
    "\n",
    "print(df[[\"TransactionStartTime\", \"transaction_hour\", \"transaction_day\", \"transaction_month\", \"transaction_year\"]].head())\n"
   ]
  },
  {
   "cell_type": "markdown",
   "metadata": {},
   "source": [
    "# Encode Categorical Variables\n"
   ]
  },
  {
   "cell_type": "code",
   "execution_count": 13,
   "metadata": {},
   "outputs": [],
   "source": [
    "# One-Hot Encoding\n",
    "df = pd.get_dummies(df, columns=[\"ProductCategory\", \"ChannelId\", \"PricingStrategy\"], drop_first=True)\n",
    "\n",
    "# For demonstration: Label Encoding (if required)\n",
    "from sklearn.preprocessing import LabelEncoder\n",
    "\n",
    "le = LabelEncoder()\n",
    "df[\"CurrencyCode_encoded\"] = le.fit_transform(df[\"CurrencyCode\"])\n",
    "\n"
   ]
  },
  {
   "cell_type": "code",
   "execution_count": 14,
   "metadata": {},
   "outputs": [
    {
     "name": "stdout",
     "output_type": "stream",
     "text": [
      "        CustomerId  frequency  monetary          size  recency\n",
      "0     CustomerId_1          1  -10000.0 -10000.000000     2255\n",
      "1    CustomerId_10          1  -10000.0 -10000.000000     2255\n",
      "2  CustomerId_1001          5   20000.0   4000.000000     2261\n",
      "3  CustomerId_1002         11    4225.0    384.090909     2198\n",
      "4  CustomerId_1003          6   20000.0   3333.333333     2184\n"
     ]
    }
   ],
   "source": [
    "from datetime import datetime\n",
    "import pandas as pd\n",
    "\n",
    "# Ensure TransactionStartTime is in datetime format and timezone-naive\n",
    "df[\"TransactionStartTime\"] = pd.to_datetime(df[\"TransactionStartTime\"]).dt.tz_localize(None)\n",
    "\n",
    "# Recency: Days since the last transaction\n",
    "current_date = pd.Timestamp.now(tz=None)  # Ensure current_date is timezone-naive\n",
    "df[\"transaction_date\"] = df[\"TransactionStartTime\"]  # Keep it as a datetime object\n",
    "last_transaction = df.groupby(\"CustomerId\")[\"transaction_date\"].max().reset_index()\n",
    "\n",
    "# Calculate recency in days (difference between current date and last transaction date)\n",
    "last_transaction[\"recency\"] = (current_date - last_transaction[\"transaction_date\"]).dt.days\n",
    "\n",
    "# Frequency, Monetary, Size\n",
    "rfms = df.groupby(\"CustomerId\").agg(\n",
    "    frequency=(\"TransactionId\", \"count\"),  # Count of transactions\n",
    "    monetary=(\"Amount\", \"sum\"),           # Sum of transaction amounts\n",
    "    size=(\"Amount\", \"mean\")               # Average transaction amount\n",
    ").reset_index()\n",
    "\n",
    "# Merge recency with RFMS data\n",
    "rfms = rfms.merge(last_transaction[[\"CustomerId\", \"recency\"]], on=\"CustomerId\", how=\"left\")\n",
    "\n",
    "# Display the result\n",
    "print(rfms.head())\n"
   ]
  },
  {
   "cell_type": "code",
   "execution_count": 15,
   "metadata": {},
   "outputs": [
    {
     "name": "stderr",
     "output_type": "stream",
     "text": [
      "/tmp/ipykernel_25349/4133612522.py:6: UserWarning: FigureCanvasAgg is non-interactive, and thus cannot be shown\n",
      "  plt.show()\n"
     ]
    }
   ],
   "source": [
    "import seaborn as sns\n",
    "import matplotlib.pyplot as plt\n",
    "\n",
    "# Visualize RFMS\n",
    "sns.pairplot(rfms, diag_kind=\"kde\")\n",
    "plt.show()\n",
    "\n",
    "# Define thresholds for high/low RFMS scores (adjust thresholds based on visualization)\n",
    "rfms[\"rfms_score\"] = rfms.apply(lambda x: \"good\" if (x[\"recency\"] < 30 and x[\"frequency\"] > 5 and x[\"monetary\"] > 1000) else \"bad\", axis=1)\n"
   ]
  },
  {
   "cell_type": "code",
   "execution_count": 16,
   "metadata": {},
   "outputs": [
    {
     "ename": "ImportError",
     "evalue": "cannot import name 'WoE' from 'woe' (/home/azazh/Documents/10-acadamy/w-6/CreditScoring/envcredit/lib/python3.10/site-packages/woe/__init__.py)",
     "output_type": "error",
     "traceback": [
      "\u001b[0;31m---------------------------------------------------------------------------\u001b[0m",
      "\u001b[0;31mImportError\u001b[0m                               Traceback (most recent call last)",
      "Cell \u001b[0;32mIn[16], line 1\u001b[0m\n\u001b[0;32m----> 1\u001b[0m \u001b[38;5;28;01mfrom\u001b[39;00m\u001b[38;5;250m \u001b[39m\u001b[38;5;21;01mwoe\u001b[39;00m\u001b[38;5;250m \u001b[39m\u001b[38;5;28;01mimport\u001b[39;00m WoE\n\u001b[1;32m      3\u001b[0m \u001b[38;5;66;03m# Example WoE binning for ProductCategory\u001b[39;00m\n\u001b[1;32m      4\u001b[0m woe \u001b[38;5;241m=\u001b[39m WoE()\n",
      "\u001b[0;31mImportError\u001b[0m: cannot import name 'WoE' from 'woe' (/home/azazh/Documents/10-acadamy/w-6/CreditScoring/envcredit/lib/python3.10/site-packages/woe/__init__.py)"
     ]
    }
   ],
   "source": [
    "from woe import WoE\n",
    "\n",
    "# Example WoE binning for ProductCategory\n",
    "woe = WoE()\n",
    "woe.fit(df[\"ProductCategory_airtime\"], df[\"FraudResult\"])\n",
    "df[\"ProductCategory_airtime_woe\"] = woe.transform(df[\"ProductCategory_airtime\"])\n",
    "print(woe.summary())\n"
   ]
  },
  {
   "cell_type": "code",
   "execution_count": null,
   "metadata": {},
   "outputs": [],
   "source": [
    "# # Impute missing values (example with std deviation)\n",
    "# df['Std_Dev_Transaction_Amount'] = df['Std_Dev_Transaction_Amount'].fillna(df['Std_Dev_Transaction_Amount'].mean())\n"
   ]
  },
  {
   "cell_type": "code",
   "execution_count": null,
   "metadata": {},
   "outputs": [],
   "source": [
    "from sklearn.preprocessing import MinMaxScaler, StandardScaler\n",
    "\n",
    "# Normalization\n",
    "scaler = MinMaxScaler()\n",
    "df['Amount_Normalized'] = scaler.fit_transform(df[['Amount']])\n",
    "\n",
    "# Standardization\n",
    "standardizer = StandardScaler()\n",
    "df['Total_Transaction_Amount_Standardized'] = standardizer.fit_transform(df[['Total_Transaction_Amount']])\n",
    "\n",
    "print(df[['Amount', 'Amount_Normalized', 'Total_Transaction_Amount', 'Total_Transaction_Amount_Standardized']])\n"
   ]
  },
  {
   "cell_type": "markdown",
   "metadata": {},
   "source": [
    "# RFMS calculation\n"
   ]
  },
  {
   "cell_type": "code",
   "execution_count": 8,
   "metadata": {},
   "outputs": [],
   "source": [
    "# RFMS calculation\n",
    "df['Recency'] = (df['TransactionStartTime'].max() - df['TransactionStartTime']).dt.days\n",
    "rfms = df.groupby('CustomerId').agg(\n",
    "    Recency=('Recency', 'mean'),\n",
    "    Frequency=('TransactionId', 'count'),\n",
    "    Monetary=('Amount', 'sum'),\n",
    "    Std_Dev=('Amount', 'std')\n",
    ").reset_index()\n",
    "\n",
    "# Example thresholds for RFMS classification\n",
    "rfms['RFMS_Score'] = (\n",
    "    0.3 * rfms['Recency'].rank(ascending=False) +\n",
    "    0.3 * rfms['Frequency'].rank(ascending=True) +\n",
    "    0.4 * rfms['Monetary'].rank(ascending=True)\n",
    ")\n",
    "rfms['Risk_Label'] = ['Good' if score >= rfms['RFMS_Score'].median() else 'Bad' for score in rfms['RFMS_Score']]\n",
    "print(rfms)\n"
   ]
  },
  {
   "cell_type": "code",
   "execution_count": null,
   "metadata": {},
   "outputs": [],
   "source": [
    "from xverse.transformer import WOE\n",
    "\n",
    "# Initialize WoE binning\n",
    "woe = WOE()\n",
    "df['FraudResult'] = [0, 0, 0]  # Sample FraudResult values\n",
    "woe.fit(df, df['FraudResult'])\n",
    "transformed_df = woe.transform(df)\n",
    "\n",
    "print(transformed_df.head())\n"
   ]
  },
  {
   "cell_type": "markdown",
   "metadata": {},
   "source": [
    "# Construct Default Estimator (Proxy)\n"
   ]
  },
  {
   "cell_type": "code",
   "execution_count": 9,
   "metadata": {},
   "outputs": [],
   "source": [
    "# # Construct Default Estimator (Proxy)\n",
    "# df['RFMS_Score'] = df['Total_Transaction_Amount'] * df['Transaction_Count']\n",
    "# df['Default_Label'] = df['RFMS_Score'].apply(lambda x: 'Good' if x > df['RFMS_Score'].median() else 'Bad')\n"
   ]
  },
  {
   "cell_type": "markdown",
   "metadata": {},
   "source": [
    "# Visualizing RFMS Distribution\n"
   ]
  },
  {
   "cell_type": "code",
   "execution_count": null,
   "metadata": {},
   "outputs": [],
   "source": [
    "# # Visualizing RFMS Distribution\n",
    "# plt.figure(figsize=(10, 6))\n",
    "# sns.histplot(df['RFMS_Score'], kde=True, bins=30)\n",
    "# plt.title('RFMS Score Distribution')\n",
    "# plt.show()\n",
    "\n",
    "# print(\"Feature Engineering completed successfully!\")"
   ]
  }
 ],
 "metadata": {
  "kernelspec": {
   "display_name": "envcredit",
   "language": "python",
   "name": "python3"
  },
  "language_info": {
   "codemirror_mode": {
    "name": "ipython",
    "version": 3
   },
   "file_extension": ".py",
   "mimetype": "text/x-python",
   "name": "python",
   "nbconvert_exporter": "python",
   "pygments_lexer": "ipython3",
   "version": "3.10.12"
  }
 },
 "nbformat": 4,
 "nbformat_minor": 2
}
